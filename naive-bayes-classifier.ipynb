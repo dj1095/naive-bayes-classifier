{
 "cells": [
  {
   "cell_type": "code",
   "execution_count": 1,
   "id": "7e82d33c",
   "metadata": {},
   "outputs": [],
   "source": [
    "import json\n",
    "import math as m"
   ]
  },
  {
   "cell_type": "code",
   "execution_count": 2,
   "id": "21ce3c80",
   "metadata": {},
   "outputs": [],
   "source": [
    "# seperate dataset by class \n",
    "def get_data_group_by_classes(dataset):\n",
    "    seperated_category_dict = {category:[] for category in categories}\n",
    "    for record in dataset:\n",
    "        seperated_category_dict[record['category']].append(record)\n",
    "    return seperated_category_dict"
   ]
  },
  {
   "cell_type": "code",
   "execution_count": 3,
   "id": "b258ea54",
   "metadata": {},
   "outputs": [],
   "source": [
    "#checks if smoothing is needed\n",
    "def is_smoothing_needed(text,word_dict,category):\n",
    "    for word in text.split(\" \"):\n",
    "        if word not in word_dict[category].keys():\n",
    "            return True\n",
    "    return False\n",
    "\n",
    "# get probability of the text assuming conditional independence(naive bayes)         \n",
    "def get_naive_probability(category,text,word_dict,grouped_classes_dict,dataset):\n",
    "    text = text.lower()\n",
    "    if category not in word_dict.keys():\n",
    "        return\n",
    "    total_word_cond_prob = 1\n",
    "    smoothing_indicator = is_smoothing_needed(text,word_dict,category)\n",
    "    for word in text.split(\" \"):\n",
    "        if not smoothing_indicator:\n",
    "            total_word_cond_prob *= (word_dict[category][word]/len(word_dict[category]))\n",
    "        else:\n",
    "            total_word_cond_prob *= (1/(len(word_dict[category])+len(word_dict[category]))) # Smoothing technique\n",
    "    class_probability = (len(grouped_classes_dict[category])/len(dataset))\n",
    "    return total_word_cond_prob * class_probability\n",
    "       "
   ]
  },
  {
   "cell_type": "code",
   "execution_count": 4,
   "id": "6bb6a9fb",
   "metadata": {},
   "outputs": [],
   "source": [
    "#get the predicted class given text belong to\n",
    "def get_predicted_class(categories,str_to_predict,word_frequency_dict,group_classes_dict,train_dataset):\n",
    "    greatest_prob = 0\n",
    "    predicted_category = ''\n",
    "    for category in categories:\n",
    "        total_word_cond_prob = 1\n",
    "        prob_of_category_contains_headline =  get_naive_probability(category,str_to_predict,word_frequency_dict,group_classes_dict,train_dataset)\n",
    "        if prob_of_category_contains_headline > greatest_prob:\n",
    "            greatest_prob = prob_of_category_contains_headline\n",
    "            predicted_category = category\n",
    "        #print(f'''prob_of_category_contains_headline {category} is {prob_of_category_contains_headline}''')\n",
    "    return predicted_category"
   ]
  },
  {
   "cell_type": "code",
   "execution_count": 5,
   "id": "1ba2c6d1",
   "metadata": {},
   "outputs": [
    {
     "name": "stdout",
     "output_type": "stream",
     "text": [
      " Number of records in the dataset: 200853\n",
      " Number of different categories in the dataset: 41\n"
     ]
    }
   ],
   "source": [
    "# Load the original dataset. \n",
    "dataset = []\n",
    "categories = []\n",
    "with open('data/News_Category_Dataset_v2.json') as data:\n",
    "    for line_num,record in enumerate(data,start=0):\n",
    "        dataset.append(json.loads(record))\n",
    "        if dataset[line_num]['category'] not in categories:\n",
    "            categories.append(dataset[line_num]['category'])\n",
    "no_of_records = len(dataset)\n",
    "print(f\"\"\" Number of records in the dataset: {no_of_records}\"\"\")\n",
    "print(f\"\"\" Number of different categories in the dataset: {len(categories)}\"\"\")\n"
   ]
  },
  {
   "cell_type": "code",
   "execution_count": 6,
   "id": "ceca1ff3",
   "metadata": {},
   "outputs": [],
   "source": [
    "#Divide the dataset as train, development and test.\n",
    "train_split = m.ceil(no_of_records * 0.65)\n",
    "dev_split = m.ceil(no_of_records * 0.20)\n",
    "test_split =m.ceil(no_of_records * 0.15)\n",
    "train_dataset = dataset[0:train_split]\n",
    "dev_dataset = dataset[train_split+1:train_split+dev_split]\n",
    "test_dataset = dataset[train_split+dev_split+1:]\n"
   ]
  },
  {
   "cell_type": "code",
   "execution_count": 7,
   "id": "e52505da",
   "metadata": {},
   "outputs": [
    {
     "name": "stdout",
     "output_type": "stream",
     "text": [
      " Length of vocab list in training dataset: 88261\n"
     ]
    }
   ],
   "source": [
    "# Build a vocab list \n",
    "vocab_list = []\n",
    "for record in train_dataset:\n",
    "    vocab_list.extend(record['headline'].split(\" \"))\n",
    "vocab_list = [word.lower() for word in list(set(vocab_list))]\n",
    "print(f''' Length of vocab list in training dataset: {len(vocab_list)}''')\n"
   ]
  },
  {
   "cell_type": "code",
   "execution_count": 8,
   "id": "5255a200",
   "metadata": {},
   "outputs": [],
   "source": [
    "#create count frequency of words on training data\n",
    "group_classes_dict = get_data_group_by_classes(train_dataset)\n",
    "word_frequency_dict = {category:{vocab:0 for vocab in vocab_list} for category in categories}\n",
    "for record in train_dataset:\n",
    "    for word in record['headline'].split(\" \"):\n",
    "        word_frequency_dict[record['category']][word.lower()]+=1\n"
   ]
  },
  {
   "cell_type": "code",
   "execution_count": null,
   "id": "164e1626",
   "metadata": {},
   "outputs": [],
   "source": [
    " #calculate the accuracy of the classifier over given dataset:\n",
    "correct_predicted = 0\n",
    "for record in train_dataset: \n",
    "    predicted_category = get_predicted_class(categories,record['headline'],word_frequency_dict,group_classes_dict,train_dataset)\n",
    "    if predicted_category == record['category']:\n",
    "        correct_predicted+=1\n",
    "print(f'''Accuracy of the Naive Baye's Classifier over train dataset is {round((correct_predicted/len(train_dataset))*100,2)}%''')\n"
   ]
  },
  {
   "cell_type": "code",
   "execution_count": null,
   "id": "f587eab8",
   "metadata": {},
   "outputs": [],
   "source": []
  },
  {
   "cell_type": "code",
   "execution_count": null,
   "id": "9c7c1f8e",
   "metadata": {},
   "outputs": [],
   "source": []
  }
 ],
 "metadata": {
  "kernelspec": {
   "display_name": "Python 3 (ipykernel)",
   "language": "python",
   "name": "python3"
  },
  "language_info": {
   "codemirror_mode": {
    "name": "ipython",
    "version": 3
   },
   "file_extension": ".py",
   "mimetype": "text/x-python",
   "name": "python",
   "nbconvert_exporter": "python",
   "pygments_lexer": "ipython3",
   "version": "3.9.7"
  }
 },
 "nbformat": 4,
 "nbformat_minor": 5
}
